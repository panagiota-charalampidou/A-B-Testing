{
 "cells": [
  {
   "cell_type": "markdown",
   "metadata": {},
   "source": [
    "<h1><center>A/B Testing</center><h1>"
   ]
  },
  {
   "cell_type": "markdown",
   "metadata": {},
   "source": [
    "## Project Scoping"
   ]
  },
  {
   "cell_type": "markdown",
   "metadata": {},
   "source": [
    "#### Project Goal"
   ]
  },
  {
   "cell_type": "markdown",
   "metadata": {},
   "source": [
    "The goal of this project is to demonstrate data analysis technques, using Python. This will be achieved by conducting an A/B test, a process typical for e-commerce businesses."
   ]
  },
  {
   "cell_type": "markdown",
   "metadata": {},
   "source": [
    "#### The data"
   ]
  },
  {
   "cell_type": "markdown",
   "metadata": {},
   "source": [
    "The data were provided by Ahmed Dawoud in kaggle. They belong to an e-commerce company that developed a new web page. I will be using the dataset to determine how this new web page increases the conversion rate, i.e. the number of custmers who eventually pay for a product.\n",
    "(source: https://www.kaggle.com/ahmedmohameddawoud/ecommerce-ab-testing)"
   ]
  },
  {
   "cell_type": "code",
   "execution_count": 1,
   "metadata": {},
   "outputs": [],
   "source": [
    "import numpy as np\n",
    "import pandas as pd\n",
    "import matplotlib.pyplot as plt"
   ]
  },
  {
   "cell_type": "code",
   "execution_count": 2,
   "metadata": {},
   "outputs": [
    {
     "name": "stdout",
     "output_type": "stream",
     "text": [
      "       id     time  con_treat      page  converted\n",
      "0  851104  11:48.6    control  old_page          0\n",
      "1  804228  01:45.2    control  old_page          0\n",
      "2  661590  55:06.2  treatment  new_page          0\n",
      "3  853541  28:03.1  treatment  new_page          0\n",
      "4  864975  52:26.2    control  old_page          1\n",
      "       id country\n",
      "0  834778      UK\n",
      "1  928468      US\n",
      "2  822059      UK\n",
      "3  711597      UK\n",
      "4  710616      UK\n"
     ]
    }
   ],
   "source": [
    "#load and check data\n",
    "ab_test = pd.read_csv(\"ab_test.csv\")\n",
    "countries = pd.read_csv(\"countries_ab.csv\")\n",
    "print(ab_test.head())\n",
    "print(countries.head())"
   ]
  },
  {
   "cell_type": "markdown",
   "metadata": {},
   "source": [
    "#### Analysis"
   ]
  },
  {
   "cell_type": "markdown",
   "metadata": {},
   "source": [
    "For the analysis, I will have to find the baseline conversion rate, the minimum detectable effect and the statistical significance threshold to determine if the results are statistically signifcant."
   ]
  },
  {
   "cell_type": "markdown",
   "metadata": {},
   "source": [
    "#### Evaluation"
   ]
  },
  {
   "cell_type": "markdown",
   "metadata": {},
   "source": [
    "The evaluation will depend on the hypothesis testing."
   ]
  },
  {
   "cell_type": "markdown",
   "metadata": {},
   "source": [
    "#### Output"
   ]
  },
  {
   "cell_type": "markdown",
   "metadata": {},
   "source": [
    "The output will be visulaized."
   ]
  },
  {
   "cell_type": "markdown",
   "metadata": {},
   "source": [
    "## Data Wranglying and Tidying"
   ]
  },
  {
   "cell_type": "markdown",
   "metadata": {},
   "source": [
    "Before starting with the analysis, it is important to make sure that the dataset is n a usable form. The first step is to merge the two datasets:"
   ]
  },
  {
   "cell_type": "code",
   "execution_count": 3,
   "metadata": {},
   "outputs": [
    {
     "data": {
      "text/html": [
       "<div>\n",
       "<style scoped>\n",
       "    .dataframe tbody tr th:only-of-type {\n",
       "        vertical-align: middle;\n",
       "    }\n",
       "\n",
       "    .dataframe tbody tr th {\n",
       "        vertical-align: top;\n",
       "    }\n",
       "\n",
       "    .dataframe thead th {\n",
       "        text-align: right;\n",
       "    }\n",
       "</style>\n",
       "<table border=\"1\" class=\"dataframe\">\n",
       "  <thead>\n",
       "    <tr style=\"text-align: right;\">\n",
       "      <th></th>\n",
       "      <th>id</th>\n",
       "      <th>time</th>\n",
       "      <th>con_treat</th>\n",
       "      <th>page</th>\n",
       "      <th>converted</th>\n",
       "      <th>country</th>\n",
       "    </tr>\n",
       "  </thead>\n",
       "  <tbody>\n",
       "    <tr>\n",
       "      <th>0</th>\n",
       "      <td>851104</td>\n",
       "      <td>11:48.6</td>\n",
       "      <td>control</td>\n",
       "      <td>old_page</td>\n",
       "      <td>0</td>\n",
       "      <td>US</td>\n",
       "    </tr>\n",
       "    <tr>\n",
       "      <th>1</th>\n",
       "      <td>804228</td>\n",
       "      <td>01:45.2</td>\n",
       "      <td>control</td>\n",
       "      <td>old_page</td>\n",
       "      <td>0</td>\n",
       "      <td>US</td>\n",
       "    </tr>\n",
       "    <tr>\n",
       "      <th>2</th>\n",
       "      <td>661590</td>\n",
       "      <td>55:06.2</td>\n",
       "      <td>treatment</td>\n",
       "      <td>new_page</td>\n",
       "      <td>0</td>\n",
       "      <td>US</td>\n",
       "    </tr>\n",
       "    <tr>\n",
       "      <th>3</th>\n",
       "      <td>853541</td>\n",
       "      <td>28:03.1</td>\n",
       "      <td>treatment</td>\n",
       "      <td>new_page</td>\n",
       "      <td>0</td>\n",
       "      <td>US</td>\n",
       "    </tr>\n",
       "    <tr>\n",
       "      <th>4</th>\n",
       "      <td>864975</td>\n",
       "      <td>52:26.2</td>\n",
       "      <td>control</td>\n",
       "      <td>old_page</td>\n",
       "      <td>1</td>\n",
       "      <td>US</td>\n",
       "    </tr>\n",
       "  </tbody>\n",
       "</table>\n",
       "</div>"
      ],
      "text/plain": [
       "       id     time  con_treat      page  converted country\n",
       "0  851104  11:48.6    control  old_page          0      US\n",
       "1  804228  01:45.2    control  old_page          0      US\n",
       "2  661590  55:06.2  treatment  new_page          0      US\n",
       "3  853541  28:03.1  treatment  new_page          0      US\n",
       "4  864975  52:26.2    control  old_page          1      US"
      ]
     },
     "execution_count": 3,
     "metadata": {},
     "output_type": "execute_result"
    }
   ],
   "source": [
    "data = ab_test.merge(countries, 'outer', on='id')\n",
    "data.head()"
   ]
  },
  {
   "cell_type": "code",
   "execution_count": 4,
   "metadata": {},
   "outputs": [
    {
     "name": "stdout",
     "output_type": "stream",
     "text": [
      "id            int64\n",
      "time         object\n",
      "con_treat    object\n",
      "page         object\n",
      "converted     int64\n",
      "country      object\n",
      "dtype: object\n"
     ]
    }
   ],
   "source": [
    "#check data types\n",
    "print(data.dtypes)"
   ]
  },
  {
   "cell_type": "markdown",
   "metadata": {},
   "source": [
    "The dataset and the data types are already in a correct format. It is also important to check for missing variables:"
   ]
  },
  {
   "cell_type": "code",
   "execution_count": 5,
   "metadata": {},
   "outputs": [
    {
     "data": {
      "text/plain": [
       "id           0\n",
       "time         0\n",
       "con_treat    0\n",
       "page         0\n",
       "converted    0\n",
       "country      0\n",
       "dtype: int64"
      ]
     },
     "execution_count": 5,
     "metadata": {},
     "output_type": "execute_result"
    }
   ],
   "source": [
    "data.isnull().sum()"
   ]
  },
  {
   "cell_type": "markdown",
   "metadata": {},
   "source": [
    "There are no missing values. The dataset is ready for analysis."
   ]
  },
  {
   "cell_type": "markdown",
   "metadata": {},
   "source": [
    "## Analysis"
   ]
  },
  {
   "cell_type": "markdown",
   "metadata": {},
   "source": [
    "#### Baseline conversion rate"
   ]
  },
  {
   "cell_type": "markdown",
   "metadata": {},
   "source": [
    "The baseline conversion rate is an estimate of the percent of people who will buy the company's products under the old website design."
   ]
  },
  {
   "cell_type": "code",
   "execution_count": 6,
   "metadata": {},
   "outputs": [
    {
     "data": {
      "text/plain": [
       "12.047759085568362"
      ]
     },
     "execution_count": 6,
     "metadata": {},
     "output_type": "execute_result"
    }
   ],
   "source": [
    "data['labels'] = ['Not converted' if x == 0 else 'Converted' for x in data.converted]\n",
    "old = data[data['page'] == 'old_page']\n",
    "\n",
    "old_visitors = old.id\n",
    "old_paying_visitors = old[old['converted'] == 1].converted\n",
    "\n",
    "old_visitor_count = len(old_visitors)\n",
    "old_paying_visitor_count = len(old_paying_visitors)\n",
    "\n",
    "baseline_percent = 100 *(old_paying_visitor_count/old_visitor_count)\n",
    "baseline_percent"
   ]
  },
  {
   "cell_type": "markdown",
   "metadata": {},
   "source": [
    "Under the current website desgn, the company can expect that around 12% of its visitors will pay for its products."
   ]
  },
  {
   "cell_type": "code",
   "execution_count": 7,
   "metadata": {},
   "outputs": [
    {
     "data": {
      "text/plain": [
       "<AxesSubplot:title={'center':'Conversion rate with the old website'}>"
      ]
     },
     "execution_count": 7,
     "metadata": {},
     "output_type": "execute_result"
    },
    {
     "data": {
      "image/png": "[encoded data removed]",
      "text/plain": [
       "<Figure size 432x288 with 1 Axes>"
      ]
     },
     "metadata": {},
     "output_type": "display_data"
    }
   ],
   "source": [
    "old.groupby('labels').count().plot(kind = \"pie\", y = 'converted', ylabel = \"\", title = \"Conversion rate with the old website\",autopct='%1.01f%%')\n"
   ]
  },
  {
   "cell_type": "markdown",
   "metadata": {},
   "source": [
    "#### Minimum detectable effect"
   ]
  },
  {
   "cell_type": "markdown",
   "metadata": {},
   "source": [
    "The minimum detectable effect, or MDE, expresses the minimum difference the company would like to have from changing its web page. It is generally expressed as a pecent of the baseline conversion rate. For this case, I will assume that the company wants to increase its baseline conversion rate to 15%."
   ]
  },
  {
   "cell_type": "code",
   "execution_count": 8,
   "metadata": {},
   "outputs": [
    {
     "data": {
      "text/plain": [
       "24.504481650600365"
      ]
     },
     "execution_count": 8,
     "metadata": {},
     "output_type": "execute_result"
    }
   ],
   "source": [
    "new_baseline = 15\n",
    "\n",
    "mde = (new_baseline - baseline_percent)/baseline_percent *100\n",
    "mde"
   ]
  },
  {
   "cell_type": "markdown",
   "metadata": {},
   "source": [
    "The minimum desired lift is 24.5%"
   ]
  },
  {
   "cell_type": "markdown",
   "metadata": {},
   "source": [
    "#### Statistical significance threshold"
   ]
  },
  {
   "cell_type": "markdown",
   "metadata": {},
   "source": [
    "The significance threshold is the false positive rate for the test: the probability of finding a significant difference when there really is none. For this case, I will choose a significance level of 5%."
   ]
  },
  {
   "cell_type": "markdown",
   "metadata": {},
   "source": [
    "Using an online sample calculator, I find that for the A/B test to be significant at 5%, a sample of 4,230 people needs to be used."
   ]
  },
  {
   "cell_type": "code",
   "execution_count": 9,
   "metadata": {},
   "outputs": [
    {
     "data": {
      "text/plain": [
       "147239"
      ]
     },
     "execution_count": 9,
     "metadata": {},
     "output_type": "execute_result"
    }
   ],
   "source": [
    "new = data[data['page'] == \"new_page\"]\n",
    "len(new)"
   ]
  },
  {
   "cell_type": "markdown",
   "metadata": {},
   "source": [
    "The test was done on a sufficiently big sample."
   ]
  },
  {
   "cell_type": "markdown",
   "metadata": {},
   "source": [
    "## Evaluation"
   ]
  },
  {
   "cell_type": "code",
   "execution_count": 10,
   "metadata": {},
   "outputs": [
    {
     "data": {
      "text/plain": [
       "11.884079625642663"
      ]
     },
     "execution_count": 10,
     "metadata": {},
     "output_type": "execute_result"
    }
   ],
   "source": [
    "new_visitors = new.id\n",
    "new_paying_visitors = new[new['converted'] == 1].converted\n",
    "\n",
    "new_visitor_count = len(new_visitors)\n",
    "new_paying_visitor_count = len(new_paying_visitors)\n",
    "\n",
    "new_conversion_rate = 100 *(new_paying_visitor_count/new_visitor_count)\n",
    "new_conversion_rate"
   ]
  },
  {
   "cell_type": "code",
   "execution_count": 11,
   "metadata": {},
   "outputs": [
    {
     "data": {
      "text/plain": [
       "<AxesSubplot:title={'center':'Conversion rate with the new website'}>"
      ]
     },
     "execution_count": 11,
     "metadata": {},
     "output_type": "execute_result"
    },
    {
     "data": {
      "image/png": "[encoded data removed]",
      "text/plain": [
       "<Figure size 432x288 with 1 Axes>"
      ]
     },
     "metadata": {},
     "output_type": "display_data"
    }
   ],
   "source": [
    "new.groupby('labels').count().plot(kind = \"pie\", y = 'converted', ylabel = \"\", title = \"Conversion rate with the new website\",autopct='%1.01f%%')\n"
   ]
  },
  {
   "cell_type": "markdown",
   "metadata": {},
   "source": [
    "The new website does not increase the conversion rate. It actually reduces it. The company should not invest in redesigning its webpage. But maybe the results are different when looking at different countries."
   ]
  },
  {
   "cell_type": "markdown",
   "metadata": {},
   "source": [
    "#### Country analysis"
   ]
  },
  {
   "cell_type": "code",
   "execution_count": 12,
   "metadata": {},
   "outputs": [
    {
     "data": {
      "text/plain": [
       "array(['US', 'CA', 'UK'], dtype=object)"
      ]
     },
     "execution_count": 12,
     "metadata": {},
     "output_type": "execute_result"
    }
   ],
   "source": [
    "data.country.unique()"
   ]
  },
  {
   "cell_type": "markdown",
   "metadata": {},
   "source": [
    "There are three different countries included in the dataset: US, Canada, UK."
   ]
  },
  {
   "cell_type": "code",
   "execution_count": 13,
   "metadata": {},
   "outputs": [
    {
     "data": {
      "text/plain": [
       "12.078512757353298"
      ]
     },
     "execution_count": 13,
     "metadata": {},
     "output_type": "execute_result"
    }
   ],
   "source": [
    "us = data[data.country == 'US']\n",
    "\n",
    "old_us = us[us['page'] == 'old_page']\n",
    "\n",
    "old_visitors_us = old_us.id\n",
    "old_paying_visitors_us = old_us[old_us['converted'] == 1].converted\n",
    "\n",
    "old_visitor_count_us = len(old_visitors_us)\n",
    "old_paying_visitor_count_us = len(old_paying_visitors_us)\n",
    "\n",
    "baseline_percent_us = 100 *(old_paying_visitor_count_us/old_visitor_count_us)\n",
    "baseline_percent_us"
   ]
  },
  {
   "cell_type": "code",
   "execution_count": 14,
   "metadata": {},
   "outputs": [
    {
     "data": {
      "text/plain": [
       "<AxesSubplot:title={'center':'Conversion rate with the old website in the US'}>"
      ]
     },
     "execution_count": 14,
     "metadata": {},
     "output_type": "execute_result"
    },
    {
     "data": {
      "image/png": "[encoded data removed]",
      "text/plain": [
       "<Figure size 432x288 with 1 Axes>"
      ]
     },
     "metadata": {},
     "output_type": "display_data"
    }
   ],
   "source": [
    "old_us.groupby('labels').count().plot(kind = \"pie\", y = 'converted', ylabel = \"\", title = \"Conversion rate with the old website in the US\",autopct='%1.01f%%')\n"
   ]
  },
  {
   "cell_type": "markdown",
   "metadata": {},
   "source": [
    "Currently, around 12% of the company's website visitors pay for its products in the US. Let's assume again that the desired baseline conversion rate is 15%."
   ]
  },
  {
   "cell_type": "code",
   "execution_count": 15,
   "metadata": {},
   "outputs": [
    {
     "data": {
      "text/plain": [
       "24.187474909674826"
      ]
     },
     "execution_count": 15,
     "metadata": {},
     "output_type": "execute_result"
    }
   ],
   "source": [
    "new_baseline_us = 15\n",
    "\n",
    "mde_us = (new_baseline_us - baseline_percent_us)/baseline_percent_us *100\n",
    "mde_us"
   ]
  },
  {
   "cell_type": "code",
   "execution_count": 16,
   "metadata": {},
   "outputs": [
    {
     "data": {
      "text/plain": [
       "103247"
      ]
     },
     "execution_count": 16,
     "metadata": {},
     "output_type": "execute_result"
    }
   ],
   "source": [
    "new_us = us[us['page'] == \"new_page\"]\n",
    "len(new_us)"
   ]
  },
  {
   "cell_type": "markdown",
   "metadata": {},
   "source": [
    "With these parameters, the sample size would need to be at least 4,290. But in this case, the sample is bigger, so the results re significant at the 5% level."
   ]
  },
  {
   "cell_type": "code",
   "execution_count": 17,
   "metadata": {},
   "outputs": [
    {
     "name": "stdout",
     "output_type": "stream",
     "text": [
      "11.841506290739682\n"
     ]
    },
    {
     "data": {
      "text/plain": [
       "<AxesSubplot:title={'center':'Conversion rate with the new website in the US'}>"
      ]
     },
     "execution_count": 17,
     "metadata": {},
     "output_type": "execute_result"
    },
    {
     "data": {
      "image/png": "[encoded data removed]",
      "text/plain": [
       "<Figure size 432x288 with 1 Axes>"
      ]
     },
     "metadata": {},
     "output_type": "display_data"
    }
   ],
   "source": [
    "new_visitors_us = new_us.id\n",
    "new_paying_visitors_us = new_us[new_us['converted'] == 1].converted\n",
    "\n",
    "new_visitor_count_us = len(new_visitors_us)\n",
    "new_paying_visitor_count_us = len(new_paying_visitors_us)\n",
    "\n",
    "new_conversion_rate_us = 100 *(new_paying_visitor_count_us/new_visitor_count_us)\n",
    "print(new_conversion_rate_us)\n",
    "\n",
    "new_us.groupby('labels').count().plot(kind = \"pie\", y = 'converted', ylabel = \"\", title = \"Conversion rate with the new website in the US\",autopct='%1.01f%%')\n"
   ]
  },
  {
   "cell_type": "markdown",
   "metadata": {},
   "source": [
    "Once again, the new website results in a lower conversion rate in the US. Therefore, the website should remain as it is."
   ]
  },
  {
   "cell_type": "code",
   "execution_count": 18,
   "metadata": {},
   "outputs": [
    {
     "name": "stdout",
     "output_type": "stream",
     "text": [
      "11.98414422241529\n"
     ]
    },
    {
     "data": {
      "text/plain": [
       "<AxesSubplot:title={'center':'Conversion rate with the old website in the UK'}>"
      ]
     },
     "execution_count": 18,
     "metadata": {},
     "output_type": "execute_result"
    },
    {
     "data": {
      "image/png": "[encoded data removed]",
      "text/plain": [
       "<Figure size 432x288 with 1 Axes>"
      ]
     },
     "metadata": {},
     "output_type": "display_data"
    }
   ],
   "source": [
    "uk = data[data.country == 'UK']\n",
    "\n",
    "old_uk = uk[uk['page'] == 'old_page']\n",
    "\n",
    "old_visitors_uk = old_uk.id\n",
    "old_paying_visitors_uk = old_uk[old_uk['converted'] == 1].converted\n",
    "\n",
    "old_visitor_count_uk = len(old_visitors_uk)\n",
    "old_paying_visitor_count_uk = len(old_paying_visitors_uk)\n",
    "\n",
    "baseline_percent_uk = 100 *(old_paying_visitor_count_uk/old_visitor_count_uk)\n",
    "print(baseline_percent_uk)\n",
    "\n",
    "old_uk.groupby('labels').count().plot(kind = \"pie\", y = 'converted', ylabel = \"\", title = \"Conversion rate with the old website in the UK\",autopct='%1.01f%%')\n"
   ]
  },
  {
   "cell_type": "markdown",
   "metadata": {},
   "source": [
    "Currently, around 12% of the company's website visitors pay for its products in the UK. Let's assume again that the desired baseline conversion rate is 15%."
   ]
  },
  {
   "cell_type": "code",
   "execution_count": 19,
   "metadata": {},
   "outputs": [
    {
     "name": "stdout",
     "output_type": "stream",
     "text": [
      "25.16538287267785\n",
      "36587\n"
     ]
    }
   ],
   "source": [
    "new_baseline_uk = 15\n",
    "\n",
    "mde_uk = (new_baseline_uk - baseline_percent_uk)/baseline_percent_uk *100\n",
    "print(mde_uk)\n",
    "\n",
    "new_uk = uk[uk['page'] == \"new_page\"]\n",
    "print(len(new_uk))"
   ]
  },
  {
   "cell_type": "markdown",
   "metadata": {},
   "source": [
    "With these parameters, the sample size would need to be at least 2,650. But in this case, the sample is bigger, so the results re significant at the 5% level."
   ]
  },
  {
   "cell_type": "code",
   "execution_count": 20,
   "metadata": {},
   "outputs": [
    {
     "name": "stdout",
     "output_type": "stream",
     "text": [
      "12.132724738295023\n"
     ]
    },
    {
     "data": {
      "text/plain": [
       "<AxesSubplot:title={'center':'Conversion rate with the new website in the UK'}>"
      ]
     },
     "execution_count": 20,
     "metadata": {},
     "output_type": "execute_result"
    },
    {
     "data": {
      "image/png": "[encoded data removed]",
      "text/plain": [
       "<Figure size 432x288 with 1 Axes>"
      ]
     },
     "metadata": {},
     "output_type": "display_data"
    }
   ],
   "source": [
    "new_visitors_uk = new_uk.id\n",
    "new_paying_visitors_uk = new_uk[new_uk['converted'] == 1].converted\n",
    "\n",
    "new_visitor_count_uk = len(new_visitors_uk)\n",
    "new_paying_visitor_count_uk = len(new_paying_visitors_uk)\n",
    "\n",
    "new_conversion_rate_uk = 100 *(new_paying_visitor_count_uk/new_visitor_count_uk)\n",
    "print(new_conversion_rate_uk)\n",
    "\n",
    "new_uk.groupby('labels').count().plot(kind = \"pie\", y = 'converted', ylabel = \"\", title = \"Conversion rate with the new website in the UK\",autopct='%1.01f%%')\n"
   ]
  },
  {
   "cell_type": "markdown",
   "metadata": {},
   "source": [
    "Even though the new website does not achieve the desired conversion rate, it does increase it. The company should investigate whether the investment to change the website in the UK is worth it."
   ]
  },
  {
   "cell_type": "code",
   "execution_count": 21,
   "metadata": {},
   "outputs": [
    {
     "name": "stdout",
     "output_type": "stream",
     "text": [
      "11.934156378600823\n"
     ]
    },
    {
     "data": {
      "text/plain": [
       "<AxesSubplot:title={'center':'Conversion rate with the old website in Canada'}>"
      ]
     },
     "execution_count": 21,
     "metadata": {},
     "output_type": "execute_result"
    },
    {
     "data": {
      "image/png": "[encoded data removed]",
      "text/plain": [
       "<Figure size 432x288 with 1 Axes>"
      ]
     },
     "metadata": {},
     "output_type": "display_data"
    }
   ],
   "source": [
    "ca = data[data.country == 'CA']\n",
    "\n",
    "old_ca = ca[ca['page'] == 'old_page']\n",
    "\n",
    "old_visitors_ca = old_ca.id\n",
    "old_paying_visitors_ca = old_ca[old_ca['converted'] == 1].converted\n",
    "\n",
    "old_visitor_count_ca = len(old_visitors_ca)\n",
    "old_paying_visitor_count_ca = len(old_paying_visitors_ca)\n",
    "\n",
    "baseline_percent_ca = 100 *(old_paying_visitor_count_ca/old_visitor_count_ca)\n",
    "print(baseline_percent_ca)\n",
    "\n",
    "old_ca.groupby('labels').count().plot(kind = \"pie\", y = 'converted', ylabel = \"\", title = \"Conversion rate with the old website in Canada\",autopct='%1.01f%%')\n"
   ]
  },
  {
   "cell_type": "markdown",
   "metadata": {},
   "source": [
    "Currently, around 11.9% of the company's website visitors pay for its products in the UK. Let's assume again that the desired baseline conversion rate is 15%."
   ]
  },
  {
   "cell_type": "code",
   "execution_count": 22,
   "metadata": {},
   "outputs": [
    {
     "name": "stdout",
     "output_type": "stream",
     "text": [
      "25.68965517241379\n",
      "7405\n"
     ]
    }
   ],
   "source": [
    "new_baseline_ca = 15\n",
    "\n",
    "mde_ca = (new_baseline_ca - baseline_percent_ca)/baseline_percent_ca *100\n",
    "print(mde_ca)\n",
    "\n",
    "new_ca = ca[ca['page'] == \"new_page\"]\n",
    "print(len(new_ca))"
   ]
  },
  {
   "cell_type": "markdown",
   "metadata": {},
   "source": [
    "With these parameters, the sample size would need to be at least 3,890. But in this case, the sample is bigger, so the results re significant at the 5% level."
   ]
  },
  {
   "cell_type": "code",
   "execution_count": 23,
   "metadata": {},
   "outputs": [
    {
     "name": "stdout",
     "output_type": "stream",
     "text": [
      "11.2491559756921\n"
     ]
    },
    {
     "data": {
      "text/plain": [
       "<AxesSubplot:title={'center':'Conversion rate with the new website in Canada'}>"
      ]
     },
     "execution_count": 23,
     "metadata": {},
     "output_type": "execute_result"
    },
    {
     "data": {
      "image/png": "[encoded data removed]",
      "text/plain": [
       "<Figure size 432x288 with 1 Axes>"
      ]
     },
     "metadata": {},
     "output_type": "display_data"
    }
   ],
   "source": [
    "new_visitors_ca = new_ca.id\n",
    "new_paying_visitors_ca = new_ca[new_ca['converted'] == 1].converted\n",
    "\n",
    "new_visitor_count_ca = len(new_visitors_ca)\n",
    "new_paying_visitor_count_ca = len(new_paying_visitors_ca)\n",
    "\n",
    "new_conversion_rate_ca = 100 *(new_paying_visitor_count_ca/new_visitor_count_ca)\n",
    "print(new_conversion_rate_ca)\n",
    "\n",
    "new_ca.groupby('labels').count().plot(kind = \"pie\", y = 'converted', ylabel = \"\", title = \"Conversion rate with the new website in Canada\",autopct='%1.01f%%')\n"
   ]
  },
  {
   "cell_type": "markdown",
   "metadata": {},
   "source": [
    "Once again, the new website results in a lower conversion rate in Canada. Therefore, the website should remain as it is."
   ]
  },
  {
   "cell_type": "markdown",
   "metadata": {},
   "source": [
    "## Conclusion"
   ]
  },
  {
   "cell_type": "markdown",
   "metadata": {},
   "source": [
    "After analysing the data, both at an aggregate and at a country-specific level, I have concluded that the company should not change its website. A change in website would not cause the conversion rate to increase. It would actually cause it to fall. The only exception is the UK, where the new website lifts the conversion rate by approxiamtely 0.1%. The company should evaluate whether changing its website exclusively in the UK is worth the investment."
   ]
  },
  {
   "cell_type": "markdown",
   "metadata": {},
   "source": [
    "## Next steps"
   ]
  },
  {
   "cell_type": "markdown",
   "metadata": {},
   "source": [
    "If the company would like to look into the matter more closely, I would recommend doing a usage funnel analysis to find out in what step the customers decide to not buy and then try to improve the website based on that."
   ]
  }
 ],
 "metadata": {
  "kernelspec": {
   "display_name": "Python 3",
   "language": "python",
   "name": "python3"
  },
  "language_info": {
   "codemirror_mode": {
    "name": "ipython",
    "version": 3
   },
   "file_extension": ".py",
   "mimetype": "text/x-python",
   "name": "python",
   "nbconvert_exporter": "python",
   "pygments_lexer": "ipython3",
   "version": "3.8.5"
  }
 },
 "nbformat": 4,
 "nbformat_minor": 4
}
